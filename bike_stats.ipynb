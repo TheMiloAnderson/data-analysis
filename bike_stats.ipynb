{
 "cells": [
  {
   "cell_type": "markdown",
   "metadata": {},
   "source": [
    "# Bike Stats\n",
    "## Milo Anderson 3/11/2019"
   ]
  },
  {
   "cell_type": "code",
   "execution_count": 2,
   "metadata": {},
   "outputs": [],
   "source": [
    "import pandas as pd\n",
    "t = pd.read_csv('trip.csv')\n",
    "s = pd.read_csv('station.csv')\n",
    "w = pd.read_csv('weather.csv')"
   ]
  },
  {
   "cell_type": "code",
   "execution_count": 5,
   "metadata": {},
   "outputs": [
    {
     "name": "stdout",
     "output_type": "stream",
     "text": [
      "Member\n",
      "Short-Term Pass Holder\n"
     ]
    }
   ],
   "source": [
    "for key, val in t.groupby('usertype'):\n",
    "    print(key)"
   ]
  },
  {
   "cell_type": "code",
   "execution_count": 21,
   "metadata": {},
   "outputs": [
    {
     "data": {
      "text/plain": [
       "1202.6122102556499"
      ]
     },
     "execution_count": 21,
     "metadata": {},
     "output_type": "execute_result"
    }
   ],
   "source": [
    "t['tripduration'].mean()"
   ]
  },
  {
   "cell_type": "code",
   "execution_count": 34,
   "metadata": {},
   "outputs": [
    {
     "data": {
      "text/plain": [
       "0    32.0\n",
       "dtype: float64"
      ]
     },
     "execution_count": 34,
     "metadata": {},
     "output_type": "execute_result"
    }
   ],
   "source": [
    "2019 - t['birthyear'].dropna().mode()"
   ]
  },
  {
   "cell_type": "code",
   "execution_count": 56,
   "metadata": {},
   "outputs": [
    {
     "name": "stdout",
     "output_type": "stream",
     "text": [
      "(1, 2015) 0.07064516129032258 0.01\n",
      "(1, 2016) 0.2164516129032258 0.07\n",
      "(2, 2015) 0.16321428571428573 0.025\n",
      "(2, 2016) 0.17344827586206898 0.08\n",
      "(3, 2015) 0.13516129032258065 0.0\n",
      "(3, 2016) 0.1787096774193548 0.06\n",
      "(4, 2015) 0.05666666666666668 0.0\n",
      "(4, 2016) 0.046000000000000006 0.0\n",
      "(5, 2015) 0.014193548387096775 0.0\n",
      "(5, 2016) 0.010645161290322582 0.0\n",
      "(6, 2015) 0.005666666666666667 0.0\n",
      "(6, 2016) 0.05533333333333334 0.0\n",
      "(7, 2015) 0.00870967741935484 0.0\n",
      "(7, 2016) 0.015483870967741937 0.0\n",
      "(8, 2015) 0.035483870967741936 0.0\n",
      "(8, 2016) 0.000967741935483871 0.0\n",
      "(9, 2015) 0.041 0.0\n",
      "(10, 2014) 0.30052631578947375 0.14\n",
      "(10, 2015) 0.12064516129032256 0.01\n",
      "(11, 2014) 0.14166666666666664 0.01\n",
      "(11, 2015) 0.23399999999999999 0.065\n",
      "(12, 2014) 0.14516129032258066 0.01\n",
      "(12, 2015) 0.3274193548387097 0.12\n"
     ]
    }
   ],
   "source": [
    "for key, val in w.groupby([pd.to_datetime(w['Date']).dt.month, pd.to_datetime(w['Date']).dt.year]):\n",
    "    print(key, val['Precipitation_In'].mean(), val['Precipitation_In'].median())"
   ]
  },
  {
   "cell_type": "code",
   "execution_count": 60,
   "metadata": {},
   "outputs": [
    {
     "name": "stdout",
     "output_type": "stream",
     "text": [
      "BT-01 18.0\n",
      "BT-03 16.0\n",
      "BT-04 16.0\n",
      "BT-05 14.0\n",
      "CBD-03 20.0\n",
      "CBD-04 18.0\n",
      "CBD-05 20.0\n",
      "CBD-06 18.0\n",
      "CBD-07 20.0\n",
      "CBD-13 18.0\n",
      "CD-01 0.0\n",
      "CH-01 16.0\n",
      "CH-02 20.0\n",
      "CH-03 16.0\n",
      "CH-05 16.0\n",
      "CH-06 16.0\n",
      "CH-07 18.0\n",
      "CH-08 26.0\n",
      "CH-09 16.0\n",
      "CH-12 14.0\n",
      "CH-15 16.0\n",
      "CH-16 18.0\n",
      "DPD-01 18.0\n",
      "DPD-03 24.0\n",
      "EL-01 16.0\n",
      "EL-03 18.0\n",
      "EL-05 18.0\n",
      "FH-01 0.0\n",
      "FH-04 20.0\n",
      "ID-04 16.0\n",
      "PS-04 18.0\n",
      "PS-05 18.0\n",
      "SLU-01 20.0\n",
      "SLU-02 18.0\n",
      "SLU-04 18.0\n",
      "SLU-07 18.0\n",
      "SLU-15 20.0\n",
      "SLU-16 20.0\n",
      "SLU-17 16.0\n",
      "SLU-18 0.0\n",
      "SLU-19 16.0\n",
      "SLU-20 20.0\n",
      "SLU-21 20.0\n",
      "SLU-22 18.0\n",
      "UD-01 18.0\n",
      "UD-02 18.0\n",
      "UD-04 16.0\n",
      "UD-07 16.0\n",
      "UW-01 0.0\n",
      "UW-02 14.0\n",
      "UW-04 16.0\n",
      "UW-06 14.0\n",
      "UW-07 14.0\n",
      "UW-10 16.0\n",
      "UW-11 16.0\n",
      "WF-01 24.0\n",
      "WF-03 18.0\n",
      "WF-04 18.0\n"
     ]
    }
   ],
   "source": [
    "for key, val in s.groupby('station_id'):\n",
    "    print(key, val['current_dockcount'].mean())"
   ]
  },
  {
   "cell_type": "code",
   "execution_count": 62,
   "metadata": {},
   "outputs": [
    {
     "data": {
      "text/plain": [
       "16.517241379310345"
      ]
     },
     "execution_count": 62,
     "metadata": {},
     "output_type": "execute_result"
    }
   ],
   "source": [
    "s['current_dockcount'].mean()"
   ]
  },
  {
   "cell_type": "code",
   "execution_count": 71,
   "metadata": {},
   "outputs": [
    {
     "name": "stdout",
     "output_type": "stream",
     "text": [
      "More likely to lose\n"
     ]
    }
   ],
   "source": [
    "lost = len(s[s['install_dockcount'] > s['current_dockcount']])\n",
    "gained = len(s[s['install_dockcount'] < s['current_dockcount']])\n",
    "if lost > gained:\n",
    "    print('More likely to lose')\n",
    "elif lost < gained:\n",
    "    print('More likely to gain')\n",
    "else:\n",
    "    print('Equally likely to gain or lose')"
   ]
  }
 ],
 "metadata": {
  "kernelspec": {
   "display_name": "Python 3",
   "language": "python",
   "name": "python3"
  },
  "language_info": {
   "codemirror_mode": {
    "name": "ipython",
    "version": 3
   },
   "file_extension": ".py",
   "mimetype": "text/x-python",
   "name": "python",
   "nbconvert_exporter": "python",
   "pygments_lexer": "ipython3",
   "version": "3.7.1"
  }
 },
 "nbformat": 4,
 "nbformat_minor": 2
}

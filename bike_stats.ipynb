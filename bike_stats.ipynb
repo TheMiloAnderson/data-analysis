{
 "cells": [
  {
   "cell_type": "code",
   "execution_count": 2,
   "metadata": {},
   "outputs": [],
   "source": [
    "import pandas as pd\n",
    "t = pd.read_csv('trip.csv')\n",
    "s = pd.read_csv('station.csv')\n",
    "w = pd.read_csv('weather.csv')"
   ]
  },
  {
   "cell_type": "code",
   "execution_count": 5,
   "metadata": {},
   "outputs": [
    {
     "name": "stdout",
     "output_type": "stream",
     "text": [
      "Member\n",
      "Short-Term Pass Holder\n"
     ]
    }
   ],
   "source": [
    "for key, val in t.groupby('usertype'):\n",
    "    print(key)"
   ]
  },
  {
   "cell_type": "code",
   "execution_count": 21,
   "metadata": {},
   "outputs": [
    {
     "data": {
      "text/plain": [
       "1202.6122102556499"
      ]
     },
     "execution_count": 21,
     "metadata": {},
     "output_type": "execute_result"
    }
   ],
   "source": [
    "t['tripduration'].mean()"
   ]
  },
  {
   "cell_type": "code",
   "execution_count": 34,
   "metadata": {},
   "outputs": [
    {
     "data": {
      "text/plain": [
       "0    32.0\n",
       "dtype: float64"
      ]
     },
     "execution_count": 34,
     "metadata": {},
     "output_type": "execute_result"
    }
   ],
   "source": [
    "2019 - t['birthyear'].dropna().mode()"
   ]
  },
  {
   "cell_type": "code",
   "execution_count": 56,
   "metadata": {},
   "outputs": [
    {
     "name": "stdout",
     "output_type": "stream",
     "text": [
      "(1, 2015) 0.07064516129032258 0.01\n",
      "(1, 2016) 0.2164516129032258 0.07\n",
      "(2, 2015) 0.16321428571428573 0.025\n",
      "(2, 2016) 0.17344827586206898 0.08\n",
      "(3, 2015) 0.13516129032258065 0.0\n",
      "(3, 2016) 0.1787096774193548 0.06\n",
      "(4, 2015) 0.05666666666666668 0.0\n",
      "(4, 2016) 0.046000000000000006 0.0\n",
      "(5, 2015) 0.014193548387096775 0.0\n",
      "(5, 2016) 0.010645161290322582 0.0\n",
      "(6, 2015) 0.005666666666666667 0.0\n",
      "(6, 2016) 0.05533333333333334 0.0\n",
      "(7, 2015) 0.00870967741935484 0.0\n",
      "(7, 2016) 0.015483870967741937 0.0\n",
      "(8, 2015) 0.035483870967741936 0.0\n",
      "(8, 2016) 0.000967741935483871 0.0\n",
      "(9, 2015) 0.041 0.0\n",
      "(10, 2014) 0.30052631578947375 0.14\n",
      "(10, 2015) 0.12064516129032256 0.01\n",
      "(11, 2014) 0.14166666666666664 0.01\n",
      "(11, 2015) 0.23399999999999999 0.065\n",
      "(12, 2014) 0.14516129032258066 0.01\n",
      "(12, 2015) 0.3274193548387097 0.12\n"
     ]
    }
   ],
   "source": [
    "for key, val in w.groupby([pd.to_datetime(w['Date']).dt.month, pd.to_datetime(w['Date']).dt.year]):\n",
    "    print(key, val['Precipitation_In'].mean(), val['Precipitation_In'].median())"
   ]
  },
  {
   "cell_type": "code",
   "execution_count": 60,
   "metadata": {},
   "outputs": [
    {
     "name": "stdout",
     "output_type": "stream",
     "text": [
      "BT-01 18.0\n",
      "BT-03 16.0\n",
      "BT-04 16.0\n",
      "BT-05 14.0\n",
      "CBD-03 20.0\n",
      "CBD-04 18.0\n",
      "CBD-05 20.0\n",
      "CBD-06 18.0\n",
      "CBD-07 20.0\n",
      "CBD-13 18.0\n",
      "CD-01 0.0\n",
      "CH-01 16.0\n",
      "CH-02 20.0\n",
      "CH-03 16.0\n",
      "CH-05 16.0\n",
      "CH-06 16.0\n",
      "CH-07 18.0\n",
      "CH-08 26.0\n",
      "CH-09 16.0\n",
      "CH-12 14.0\n",
      "CH-15 16.0\n",
      "CH-16 18.0\n",
      "DPD-01 18.0\n",
      "DPD-03 24.0\n",
      "EL-01 16.0\n",
      "EL-03 18.0\n",
      "EL-05 18.0\n",
      "FH-01 0.0\n",
      "FH-04 20.0\n",
      "ID-04 16.0\n",
      "PS-04 18.0\n",
      "PS-05 18.0\n",
      "SLU-01 20.0\n",
      "SLU-02 18.0\n",
      "SLU-04 18.0\n",
      "SLU-07 18.0\n",
      "SLU-15 20.0\n",
      "SLU-16 20.0\n",
      "SLU-17 16.0\n",
      "SLU-18 0.0\n",
      "SLU-19 16.0\n",
      "SLU-20 20.0\n",
      "SLU-21 20.0\n",
      "SLU-22 18.0\n",
      "UD-01 18.0\n",
      "UD-02 18.0\n",
      "UD-04 16.0\n",
      "UD-07 16.0\n",
      "UW-01 0.0\n",
      "UW-02 14.0\n",
      "UW-04 16.0\n",
      "UW-06 14.0\n",
      "UW-07 14.0\n",
      "UW-10 16.0\n",
      "UW-11 16.0\n",
      "WF-01 24.0\n",
      "WF-03 18.0\n",
      "WF-04 18.0\n"
     ]
    }
   ],
   "source": [
    "for key, val in s.groupby('station_id'):\n",
    "    print(key, val['current_dockcount'].mean())"
   ]
  },
  {
   "cell_type": "code",
   "execution_count": 62,
   "metadata": {},
   "outputs": [
    {
     "data": {
      "text/plain": [
       "16.517241379310345"
      ]
     },
     "execution_count": 62,
     "metadata": {},
     "output_type": "execute_result"
    }
   ],
   "source": [
    "s['current_dockcount'].mean()"
   ]
  },
  {
   "cell_type": "code",
   "execution_count": 69,
   "metadata": {},
   "outputs": [
    {
     "data": {
      "text/html": [
       "<div>\n",
       "<style scoped>\n",
       "    .dataframe tbody tr th:only-of-type {\n",
       "        vertical-align: middle;\n",
       "    }\n",
       "\n",
       "    .dataframe tbody tr th {\n",
       "        vertical-align: top;\n",
       "    }\n",
       "\n",
       "    .dataframe thead th {\n",
       "        text-align: right;\n",
       "    }\n",
       "</style>\n",
       "<table border=\"1\" class=\"dataframe\">\n",
       "  <thead>\n",
       "    <tr style=\"text-align: right;\">\n",
       "      <th></th>\n",
       "      <th>station_id</th>\n",
       "      <th>name</th>\n",
       "      <th>lat</th>\n",
       "      <th>long</th>\n",
       "      <th>install_date</th>\n",
       "      <th>install_dockcount</th>\n",
       "      <th>modification_date</th>\n",
       "      <th>current_dockcount</th>\n",
       "      <th>decommission_date</th>\n",
       "    </tr>\n",
       "  </thead>\n",
       "  <tbody>\n",
       "    <tr>\n",
       "      <th>7</th>\n",
       "      <td>CBD-06</td>\n",
       "      <td>2nd Ave &amp; Spring St</td>\n",
       "      <td>47.605950</td>\n",
       "      <td>-122.335768</td>\n",
       "      <td>10/13/2014</td>\n",
       "      <td>20</td>\n",
       "      <td>11/9/2015</td>\n",
       "      <td>18</td>\n",
       "      <td>NaN</td>\n",
       "    </tr>\n",
       "    <tr>\n",
       "      <th>10</th>\n",
       "      <td>CD-01</td>\n",
       "      <td>12th Ave &amp; E Yesler Way</td>\n",
       "      <td>47.602103</td>\n",
       "      <td>-122.316923</td>\n",
       "      <td>5/22/2015</td>\n",
       "      <td>16</td>\n",
       "      <td>8/9/2016</td>\n",
       "      <td>0</td>\n",
       "      <td>8/9/2016</td>\n",
       "    </tr>\n",
       "    <tr>\n",
       "      <th>17</th>\n",
       "      <td>CH-08</td>\n",
       "      <td>Cal Anderson Park / 11th Ave &amp; Pine St</td>\n",
       "      <td>47.615486</td>\n",
       "      <td>-122.318245</td>\n",
       "      <td>10/13/2014</td>\n",
       "      <td>28</td>\n",
       "      <td>2/24/2015</td>\n",
       "      <td>26</td>\n",
       "      <td>NaN</td>\n",
       "    </tr>\n",
       "    <tr>\n",
       "      <th>19</th>\n",
       "      <td>CH-12</td>\n",
       "      <td>Bellevue Ave &amp; E Pine St</td>\n",
       "      <td>47.615456</td>\n",
       "      <td>-122.326729</td>\n",
       "      <td>10/13/2014</td>\n",
       "      <td>18</td>\n",
       "      <td>NaN</td>\n",
       "      <td>14</td>\n",
       "      <td>NaN</td>\n",
       "    </tr>\n",
       "    <tr>\n",
       "      <th>22</th>\n",
       "      <td>DPD-03</td>\n",
       "      <td>Children's Hospital / Sandpoint Way NE &amp; 40th ...</td>\n",
       "      <td>47.663509</td>\n",
       "      <td>-122.284119</td>\n",
       "      <td>10/13/2014</td>\n",
       "      <td>30</td>\n",
       "      <td>3/24/2015</td>\n",
       "      <td>24</td>\n",
       "      <td>NaN</td>\n",
       "    </tr>\n",
       "    <tr>\n",
       "      <th>26</th>\n",
       "      <td>FH-01</td>\n",
       "      <td>Frye Art Museum / Terry Ave &amp; Columbia St</td>\n",
       "      <td>47.607281</td>\n",
       "      <td>-122.324783</td>\n",
       "      <td>10/13/2014</td>\n",
       "      <td>16</td>\n",
       "      <td>3/18/2016</td>\n",
       "      <td>0</td>\n",
       "      <td>3/18/2016</td>\n",
       "    </tr>\n",
       "    <tr>\n",
       "      <th>37</th>\n",
       "      <td>SLU-17</td>\n",
       "      <td>Lake Union Park / Valley St &amp; Boren Ave N</td>\n",
       "      <td>47.626041</td>\n",
       "      <td>-122.335831</td>\n",
       "      <td>10/13/2014</td>\n",
       "      <td>18</td>\n",
       "      <td>2/23/2015</td>\n",
       "      <td>16</td>\n",
       "      <td>NaN</td>\n",
       "    </tr>\n",
       "    <tr>\n",
       "      <th>38</th>\n",
       "      <td>SLU-18</td>\n",
       "      <td>Dexter Ave &amp; Denny Way</td>\n",
       "      <td>47.618285</td>\n",
       "      <td>-122.342205</td>\n",
       "      <td>10/13/2014</td>\n",
       "      <td>20</td>\n",
       "      <td>11/2/2015</td>\n",
       "      <td>0</td>\n",
       "      <td>7/2/2016</td>\n",
       "    </tr>\n",
       "    <tr>\n",
       "      <th>46</th>\n",
       "      <td>UW-01</td>\n",
       "      <td>UW McCarty Hall / Whitman Ct</td>\n",
       "      <td>47.660268</td>\n",
       "      <td>-122.304826</td>\n",
       "      <td>10/13/2014</td>\n",
       "      <td>16</td>\n",
       "      <td>10/29/2015</td>\n",
       "      <td>0</td>\n",
       "      <td>10/29/2015</td>\n",
       "    </tr>\n",
       "    <tr>\n",
       "      <th>48</th>\n",
       "      <td>UW-04</td>\n",
       "      <td>15th Ave NE &amp; NE 40th St</td>\n",
       "      <td>47.655590</td>\n",
       "      <td>-122.311890</td>\n",
       "      <td>10/13/2014</td>\n",
       "      <td>18</td>\n",
       "      <td>2/20/2015</td>\n",
       "      <td>16</td>\n",
       "      <td>NaN</td>\n",
       "    </tr>\n",
       "    <tr>\n",
       "      <th>50</th>\n",
       "      <td>UW-07</td>\n",
       "      <td>UW Intramural Activities Building</td>\n",
       "      <td>47.653713</td>\n",
       "      <td>-122.302162</td>\n",
       "      <td>10/13/2014</td>\n",
       "      <td>20</td>\n",
       "      <td>2/20/2015</td>\n",
       "      <td>14</td>\n",
       "      <td>NaN</td>\n",
       "    </tr>\n",
       "  </tbody>\n",
       "</table>\n",
       "</div>"
      ],
      "text/plain": [
       "   station_id                                               name        lat  \\\n",
       "7      CBD-06                                2nd Ave & Spring St  47.605950   \n",
       "10      CD-01                            12th Ave & E Yesler Way  47.602103   \n",
       "17      CH-08             Cal Anderson Park / 11th Ave & Pine St  47.615486   \n",
       "19      CH-12                           Bellevue Ave & E Pine St  47.615456   \n",
       "22     DPD-03  Children's Hospital / Sandpoint Way NE & 40th ...  47.663509   \n",
       "26      FH-01          Frye Art Museum / Terry Ave & Columbia St  47.607281   \n",
       "37     SLU-17          Lake Union Park / Valley St & Boren Ave N  47.626041   \n",
       "38     SLU-18                             Dexter Ave & Denny Way  47.618285   \n",
       "46      UW-01                       UW McCarty Hall / Whitman Ct  47.660268   \n",
       "48      UW-04                           15th Ave NE & NE 40th St  47.655590   \n",
       "50      UW-07                  UW Intramural Activities Building  47.653713   \n",
       "\n",
       "          long install_date  install_dockcount modification_date  \\\n",
       "7  -122.335768   10/13/2014                 20         11/9/2015   \n",
       "10 -122.316923    5/22/2015                 16          8/9/2016   \n",
       "17 -122.318245   10/13/2014                 28         2/24/2015   \n",
       "19 -122.326729   10/13/2014                 18               NaN   \n",
       "22 -122.284119   10/13/2014                 30         3/24/2015   \n",
       "26 -122.324783   10/13/2014                 16         3/18/2016   \n",
       "37 -122.335831   10/13/2014                 18         2/23/2015   \n",
       "38 -122.342205   10/13/2014                 20         11/2/2015   \n",
       "46 -122.304826   10/13/2014                 16        10/29/2015   \n",
       "48 -122.311890   10/13/2014                 18         2/20/2015   \n",
       "50 -122.302162   10/13/2014                 20         2/20/2015   \n",
       "\n",
       "    current_dockcount decommission_date  \n",
       "7                  18               NaN  \n",
       "10                  0          8/9/2016  \n",
       "17                 26               NaN  \n",
       "19                 14               NaN  \n",
       "22                 24               NaN  \n",
       "26                  0         3/18/2016  \n",
       "37                 16               NaN  \n",
       "38                  0          7/2/2016  \n",
       "46                  0        10/29/2015  \n",
       "48                 16               NaN  \n",
       "50                 14               NaN  "
      ]
     },
     "execution_count": 69,
     "metadata": {},
     "output_type": "execute_result"
    }
   ],
   "source": [
    "lost = s[s['install_dockcount'] > s['current_dockcount']]\n",
    "gained = s[s['install_dockcount'] < s['current_dockcount']]\n",
    "if lost > gained:\n",
    "    print('More likely to lose')\n",
    "elif lost < gained:\n",
    "    print('')"
   ]
  },
  {
   "cell_type": "code",
   "execution_count": null,
   "metadata": {},
   "outputs": [],
   "source": []
  }
 ],
 "metadata": {
  "kernelspec": {
   "display_name": "Python 3",
   "language": "python",
   "name": "python3"
  },
  "language_info": {
   "codemirror_mode": {
    "name": "ipython",
    "version": 3
   },
   "file_extension": ".py",
   "mimetype": "text/x-python",
   "name": "python",
   "nbconvert_exporter": "python",
   "pygments_lexer": "ipython3",
   "version": "3.7.1"
  }
 },
 "nbformat": 4,
 "nbformat_minor": 2
}
